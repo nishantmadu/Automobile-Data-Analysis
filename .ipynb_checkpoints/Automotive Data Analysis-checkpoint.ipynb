{
 "cells": [
  {
   "cell_type": "markdown",
   "metadata": {
    "_uuid": "a2c9bfce93fa65156f271f1c85a3af6dffddc489"
   },
   "source": [
    "# Automotive Data Analysis\n",
    "\n",
    "#### Nishant Madu\n"
   ]
  },
  {
   "cell_type": "code",
   "execution_count": 1,
   "metadata": {
    "_uuid": "ffb192fae30e74c8c85c9dca2008f07c608a9ae9"
   },
   "outputs": [
    {
     "ename": "FileNotFoundError",
     "evalue": "File b'../input/Automobile_data.txt' does not exist",
     "output_type": "error",
     "traceback": [
      "\u001b[0;31m---------------------------------------------------------------------------\u001b[0m",
      "\u001b[0;31mFileNotFoundError\u001b[0m                         Traceback (most recent call last)",
      "\u001b[0;32m<ipython-input-1-7b2ff4f331be>\u001b[0m in \u001b[0;36m<module>\u001b[0;34m()\u001b[0m\n\u001b[1;32m      4\u001b[0m \u001b[0;32mimport\u001b[0m \u001b[0mseaborn\u001b[0m \u001b[0;32mas\u001b[0m \u001b[0msns\u001b[0m\u001b[0;34m\u001b[0m\u001b[0m\n\u001b[1;32m      5\u001b[0m \u001b[0mget_ipython\u001b[0m\u001b[0;34m(\u001b[0m\u001b[0;34m)\u001b[0m\u001b[0;34m.\u001b[0m\u001b[0mrun_line_magic\u001b[0m\u001b[0;34m(\u001b[0m\u001b[0;34m'matplotlib'\u001b[0m\u001b[0;34m,\u001b[0m \u001b[0;34m'inline'\u001b[0m\u001b[0;34m)\u001b[0m\u001b[0;34m\u001b[0m\u001b[0m\n\u001b[0;32m----> 6\u001b[0;31m \u001b[0mauto\u001b[0m\u001b[0;34m=\u001b[0m\u001b[0mpd\u001b[0m\u001b[0;34m.\u001b[0m\u001b[0mread_csv\u001b[0m\u001b[0;34m(\u001b[0m\u001b[0;34m'../input/Automobile_data.txt'\u001b[0m\u001b[0;34m)\u001b[0m\u001b[0;34m\u001b[0m\u001b[0m\n\u001b[0m\u001b[1;32m      7\u001b[0m \u001b[0mauto\u001b[0m\u001b[0;34m\u001b[0m\u001b[0m\n",
      "\u001b[0;32m~/anaconda3/lib/python3.6/site-packages/pandas/io/parsers.py\u001b[0m in \u001b[0;36mparser_f\u001b[0;34m(filepath_or_buffer, sep, delimiter, header, names, index_col, usecols, squeeze, prefix, mangle_dupe_cols, dtype, engine, converters, true_values, false_values, skipinitialspace, skiprows, nrows, na_values, keep_default_na, na_filter, verbose, skip_blank_lines, parse_dates, infer_datetime_format, keep_date_col, date_parser, dayfirst, iterator, chunksize, compression, thousands, decimal, lineterminator, quotechar, quoting, escapechar, comment, encoding, dialect, tupleize_cols, error_bad_lines, warn_bad_lines, skipfooter, doublequote, delim_whitespace, low_memory, memory_map, float_precision)\u001b[0m\n\u001b[1;32m    676\u001b[0m                     skip_blank_lines=skip_blank_lines)\n\u001b[1;32m    677\u001b[0m \u001b[0;34m\u001b[0m\u001b[0m\n\u001b[0;32m--> 678\u001b[0;31m         \u001b[0;32mreturn\u001b[0m \u001b[0m_read\u001b[0m\u001b[0;34m(\u001b[0m\u001b[0mfilepath_or_buffer\u001b[0m\u001b[0;34m,\u001b[0m \u001b[0mkwds\u001b[0m\u001b[0;34m)\u001b[0m\u001b[0;34m\u001b[0m\u001b[0m\n\u001b[0m\u001b[1;32m    679\u001b[0m \u001b[0;34m\u001b[0m\u001b[0m\n\u001b[1;32m    680\u001b[0m     \u001b[0mparser_f\u001b[0m\u001b[0;34m.\u001b[0m\u001b[0m__name__\u001b[0m \u001b[0;34m=\u001b[0m \u001b[0mname\u001b[0m\u001b[0;34m\u001b[0m\u001b[0m\n",
      "\u001b[0;32m~/anaconda3/lib/python3.6/site-packages/pandas/io/parsers.py\u001b[0m in \u001b[0;36m_read\u001b[0;34m(filepath_or_buffer, kwds)\u001b[0m\n\u001b[1;32m    438\u001b[0m \u001b[0;34m\u001b[0m\u001b[0m\n\u001b[1;32m    439\u001b[0m     \u001b[0;31m# Create the parser.\u001b[0m\u001b[0;34m\u001b[0m\u001b[0;34m\u001b[0m\u001b[0m\n\u001b[0;32m--> 440\u001b[0;31m     \u001b[0mparser\u001b[0m \u001b[0;34m=\u001b[0m \u001b[0mTextFileReader\u001b[0m\u001b[0;34m(\u001b[0m\u001b[0mfilepath_or_buffer\u001b[0m\u001b[0;34m,\u001b[0m \u001b[0;34m**\u001b[0m\u001b[0mkwds\u001b[0m\u001b[0;34m)\u001b[0m\u001b[0;34m\u001b[0m\u001b[0m\n\u001b[0m\u001b[1;32m    441\u001b[0m \u001b[0;34m\u001b[0m\u001b[0m\n\u001b[1;32m    442\u001b[0m     \u001b[0;32mif\u001b[0m \u001b[0mchunksize\u001b[0m \u001b[0;32mor\u001b[0m \u001b[0miterator\u001b[0m\u001b[0;34m:\u001b[0m\u001b[0;34m\u001b[0m\u001b[0m\n",
      "\u001b[0;32m~/anaconda3/lib/python3.6/site-packages/pandas/io/parsers.py\u001b[0m in \u001b[0;36m__init__\u001b[0;34m(self, f, engine, **kwds)\u001b[0m\n\u001b[1;32m    785\u001b[0m             \u001b[0mself\u001b[0m\u001b[0;34m.\u001b[0m\u001b[0moptions\u001b[0m\u001b[0;34m[\u001b[0m\u001b[0;34m'has_index_names'\u001b[0m\u001b[0;34m]\u001b[0m \u001b[0;34m=\u001b[0m \u001b[0mkwds\u001b[0m\u001b[0;34m[\u001b[0m\u001b[0;34m'has_index_names'\u001b[0m\u001b[0;34m]\u001b[0m\u001b[0;34m\u001b[0m\u001b[0m\n\u001b[1;32m    786\u001b[0m \u001b[0;34m\u001b[0m\u001b[0m\n\u001b[0;32m--> 787\u001b[0;31m         \u001b[0mself\u001b[0m\u001b[0;34m.\u001b[0m\u001b[0m_make_engine\u001b[0m\u001b[0;34m(\u001b[0m\u001b[0mself\u001b[0m\u001b[0;34m.\u001b[0m\u001b[0mengine\u001b[0m\u001b[0;34m)\u001b[0m\u001b[0;34m\u001b[0m\u001b[0m\n\u001b[0m\u001b[1;32m    788\u001b[0m \u001b[0;34m\u001b[0m\u001b[0m\n\u001b[1;32m    789\u001b[0m     \u001b[0;32mdef\u001b[0m \u001b[0mclose\u001b[0m\u001b[0;34m(\u001b[0m\u001b[0mself\u001b[0m\u001b[0;34m)\u001b[0m\u001b[0;34m:\u001b[0m\u001b[0;34m\u001b[0m\u001b[0m\n",
      "\u001b[0;32m~/anaconda3/lib/python3.6/site-packages/pandas/io/parsers.py\u001b[0m in \u001b[0;36m_make_engine\u001b[0;34m(self, engine)\u001b[0m\n\u001b[1;32m   1012\u001b[0m     \u001b[0;32mdef\u001b[0m \u001b[0m_make_engine\u001b[0m\u001b[0;34m(\u001b[0m\u001b[0mself\u001b[0m\u001b[0;34m,\u001b[0m \u001b[0mengine\u001b[0m\u001b[0;34m=\u001b[0m\u001b[0;34m'c'\u001b[0m\u001b[0;34m)\u001b[0m\u001b[0;34m:\u001b[0m\u001b[0;34m\u001b[0m\u001b[0m\n\u001b[1;32m   1013\u001b[0m         \u001b[0;32mif\u001b[0m \u001b[0mengine\u001b[0m \u001b[0;34m==\u001b[0m \u001b[0;34m'c'\u001b[0m\u001b[0;34m:\u001b[0m\u001b[0;34m\u001b[0m\u001b[0m\n\u001b[0;32m-> 1014\u001b[0;31m             \u001b[0mself\u001b[0m\u001b[0;34m.\u001b[0m\u001b[0m_engine\u001b[0m \u001b[0;34m=\u001b[0m \u001b[0mCParserWrapper\u001b[0m\u001b[0;34m(\u001b[0m\u001b[0mself\u001b[0m\u001b[0;34m.\u001b[0m\u001b[0mf\u001b[0m\u001b[0;34m,\u001b[0m \u001b[0;34m**\u001b[0m\u001b[0mself\u001b[0m\u001b[0;34m.\u001b[0m\u001b[0moptions\u001b[0m\u001b[0;34m)\u001b[0m\u001b[0;34m\u001b[0m\u001b[0m\n\u001b[0m\u001b[1;32m   1015\u001b[0m         \u001b[0;32melse\u001b[0m\u001b[0;34m:\u001b[0m\u001b[0;34m\u001b[0m\u001b[0m\n\u001b[1;32m   1016\u001b[0m             \u001b[0;32mif\u001b[0m \u001b[0mengine\u001b[0m \u001b[0;34m==\u001b[0m \u001b[0;34m'python'\u001b[0m\u001b[0;34m:\u001b[0m\u001b[0;34m\u001b[0m\u001b[0m\n",
      "\u001b[0;32m~/anaconda3/lib/python3.6/site-packages/pandas/io/parsers.py\u001b[0m in \u001b[0;36m__init__\u001b[0;34m(self, src, **kwds)\u001b[0m\n\u001b[1;32m   1706\u001b[0m         \u001b[0mkwds\u001b[0m\u001b[0;34m[\u001b[0m\u001b[0;34m'usecols'\u001b[0m\u001b[0;34m]\u001b[0m \u001b[0;34m=\u001b[0m \u001b[0mself\u001b[0m\u001b[0;34m.\u001b[0m\u001b[0musecols\u001b[0m\u001b[0;34m\u001b[0m\u001b[0m\n\u001b[1;32m   1707\u001b[0m \u001b[0;34m\u001b[0m\u001b[0m\n\u001b[0;32m-> 1708\u001b[0;31m         \u001b[0mself\u001b[0m\u001b[0;34m.\u001b[0m\u001b[0m_reader\u001b[0m \u001b[0;34m=\u001b[0m \u001b[0mparsers\u001b[0m\u001b[0;34m.\u001b[0m\u001b[0mTextReader\u001b[0m\u001b[0;34m(\u001b[0m\u001b[0msrc\u001b[0m\u001b[0;34m,\u001b[0m \u001b[0;34m**\u001b[0m\u001b[0mkwds\u001b[0m\u001b[0;34m)\u001b[0m\u001b[0;34m\u001b[0m\u001b[0m\n\u001b[0m\u001b[1;32m   1709\u001b[0m \u001b[0;34m\u001b[0m\u001b[0m\n\u001b[1;32m   1710\u001b[0m         \u001b[0mpassed_names\u001b[0m \u001b[0;34m=\u001b[0m \u001b[0mself\u001b[0m\u001b[0;34m.\u001b[0m\u001b[0mnames\u001b[0m \u001b[0;32mis\u001b[0m \u001b[0;32mNone\u001b[0m\u001b[0;34m\u001b[0m\u001b[0m\n",
      "\u001b[0;32mpandas/_libs/parsers.pyx\u001b[0m in \u001b[0;36mpandas._libs.parsers.TextReader.__cinit__\u001b[0;34m()\u001b[0m\n",
      "\u001b[0;32mpandas/_libs/parsers.pyx\u001b[0m in \u001b[0;36mpandas._libs.parsers.TextReader._setup_parser_source\u001b[0;34m()\u001b[0m\n",
      "\u001b[0;31mFileNotFoundError\u001b[0m: File b'../input/Automobile_data.txt' does not exist"
     ]
    }
   ],
   "source": [
    "import numpy as np\n",
    "import pandas as pd\n",
    "import matplotlib.pyplot as plt\n",
    "import seaborn as sns\n",
    "%matplotlib inline\n",
    "auto=pd.read_csv('../input/Automobile_data.txt')\n",
    "auto"
   ]
  },
  {
   "cell_type": "markdown",
   "metadata": {
    "_uuid": "ae135a80cb38205aa2a1c77c3d170f2a686ae28c"
   },
   "source": [
    "## Cleaning the Garbage Values-\n",
    "####                                                 -Replace all the garbage values to NaN by using the 'replace' method.\n",
    "####                                                -Once the method is applied all the garbage values will be replaced by NaN"
   ]
  },
  {
   "cell_type": "code",
   "execution_count": null,
   "metadata": {
    "_uuid": "110ac59daed81d7dfcdf46e1b39bb540ded3dc58"
   },
   "outputs": [],
   "source": [
    "automobile=auto.replace('?', np.nan)\n",
    "automobile"
   ]
  },
  {
   "cell_type": "markdown",
   "metadata": {
    "_uuid": "4a6b3858b23bd200b55fab6000987c1e86969a24"
   },
   "source": [
    "## 'isnull' method-\n",
    "#### 'isnull' method helps in displayiing all the NaN values to true.The methos name is self explanatory."
   ]
  },
  {
   "cell_type": "code",
   "execution_count": null,
   "metadata": {
    "_uuid": "0dac557166b8d3472ce89a48a0c84e1352056ee5"
   },
   "outputs": [],
   "source": [
    "automobile.isnull()"
   ]
  },
  {
   "cell_type": "code",
   "execution_count": null,
   "metadata": {
    "_uuid": "11a959179ac8b980217803f251f1bdcc3b50ae8c"
   },
   "outputs": [],
   "source": [
    "automobile"
   ]
  },
  {
   "cell_type": "markdown",
   "metadata": {
    "_uuid": "d0d39ae587a6465d79848e2ebd0a2ad8aaaf8457"
   },
   "source": [
    "#### 'dtypes' helps us to understand the datatypes present in the dataframe "
   ]
  },
  {
   "cell_type": "code",
   "execution_count": null,
   "metadata": {
    "_uuid": "c62dd52d67dd3f7c37224e049c33c05bf0f5f82e"
   },
   "outputs": [],
   "source": [
    "automobile.dtypes"
   ]
  },
  {
   "cell_type": "markdown",
   "metadata": {
    "_uuid": "628317a3d0f68c8890b57875b7a151bf5ecb1f85"
   },
   "source": [
    "#### Below is where we are manipulating the datatypes.Here the datatype is changed from one type to other.In this case the 'Object' datatype is convereted to numeric."
   ]
  },
  {
   "cell_type": "code",
   "execution_count": null,
   "metadata": {
    "_uuid": "a2ff4a1a9c80b0f9f843bea1a32f7729e0febf30"
   },
   "outputs": [],
   "source": [
    "automobile['bore']=pd.to_numeric(automobile['bore'],errors='coerce')\n",
    "automobile['stroke']=pd.to_numeric(automobile['stroke'],errors='coerce')\n",
    "automobile['horsepower']=pd.to_numeric(automobile['horsepower'],errors='coerce')\n",
    "automobile['peak-rpm']=pd.to_numeric(automobile['peak-rpm'],errors='coerce')\n",
    "automobile['price']=pd.to_numeric(automobile['price'],errors='coerce')"
   ]
  },
  {
   "cell_type": "code",
   "execution_count": null,
   "metadata": {
    "_uuid": "e7a573d7179bd69a12da007e136dd2703d31b0f4"
   },
   "outputs": [],
   "source": [
    "automobile.dtypes"
   ]
  },
  {
   "cell_type": "markdown",
   "metadata": {
    "_uuid": "fc3cf227d1f562e31cf2743f605a45340e4f89e0"
   },
   "source": [
    "## Univariate Analysis\n",
    "\n",
    "### Univariate Analysis on 'Make'"
   ]
  },
  {
   "cell_type": "code",
   "execution_count": null,
   "metadata": {
    "_uuid": "47b904ae9bd9b47644dfccddbc7300752ba96cde"
   },
   "outputs": [],
   "source": [
    "automobile.make.value_counts().plot(figsize=(15,8),kind='bar',stacked=True,colormap='bone')\n",
    "plt.xlabel('Make')\n",
    "plt.ylabel('Count')"
   ]
  },
  {
   "cell_type": "markdown",
   "metadata": {
    "_uuid": "32f25c7ce416da12e7714cfa2ddb2e2e3d48c878"
   },
   "source": [
    "### Univariate Analysis on 'no-of-cylinders'"
   ]
  },
  {
   "cell_type": "code",
   "execution_count": null,
   "metadata": {
    "_uuid": "d0d222a18b59a57e5d4cfc142d893c28480373c5"
   },
   "outputs": [],
   "source": [
    "automobile['num-of-cylinders'].value_counts().plot(figsize=(15,8),kind='bar',stacked=True,colormap='bone')\n",
    "plt.xlabel('num-of-cylinders')\n",
    "plt.ylabel('Count')"
   ]
  },
  {
   "cell_type": "markdown",
   "metadata": {
    "_uuid": "ab4097e6d35734dcb351c1d450186e12f16c6f53"
   },
   "source": [
    "### Univariate Analysis on 'Fuel System'"
   ]
  },
  {
   "cell_type": "code",
   "execution_count": null,
   "metadata": {
    "_uuid": "033ed2e6897640ed12ee3b5e836d784518f2f931"
   },
   "outputs": [],
   "source": [
    "automobile['fuel-system'].value_counts().plot(figsize=(15,8),kind='barh',stacked=True,colormap='bone')\n",
    "plt.xlabel('Count')\n",
    "plt.ylabel('fuel-system')"
   ]
  },
  {
   "cell_type": "markdown",
   "metadata": {
    "_uuid": "08d7716c53e6c3e486097087bdc6696335baf40a"
   },
   "source": [
    "### Univaraite Analysis on 'Drive Wheels'"
   ]
  },
  {
   "cell_type": "code",
   "execution_count": null,
   "metadata": {
    "_uuid": "ab0c7834505e22649c86fe23cb115163aa93f975"
   },
   "outputs": [],
   "source": [
    "automobile['drive-wheels'].value_counts().plot(figsize=(15,8),kind='bar',stacked=True,colormap='bone')\n",
    "plt.xlabel('drive-wheels')\n",
    "plt.ylabel('Count')"
   ]
  },
  {
   "cell_type": "markdown",
   "metadata": {
    "_uuid": "f3f15177e3fa763625c05108890c034ae39009ef"
   },
   "source": [
    "#### Plotting 'Histogram' and also calculating the mean from the data pertaining to 'Price of Cars'. "
   ]
  },
  {
   "cell_type": "code",
   "execution_count": null,
   "metadata": {
    "_uuid": "b6500085afa1f904ea26a324b1e1cf46394fb704"
   },
   "outputs": [],
   "source": [
    "import numpy as n\n",
    "import matplotlib.pyplot as plt\n",
    "\n",
    "\n",
    "# This is  the colormap I'd like to use.\n",
    "cm = plt.cm.get_cmap('RdYlBu_r')\n",
    "\n",
    "# Get the histogramp\n",
    "Y,X = n.histogram(automobile['price'], range=(5000,23000),bins=5)\n",
    "plt.xlabel(\"Price of Cars\")\n",
    "plt.ylabel(\"Frequency\")\n",
    "plt.title(\"Average Price of Cars\")\n",
    "plt.axvline(x=automobile['price'].mean(),linewidth=3,color='r')\n",
    "x_span = X.max()-X.min()\n",
    "C = [cm(((x-X.min())/x_span)) for x in X]\n",
    "\n",
    "plt.bar(X[:-1],Y,color=C,width=X[1]-X[0])\n",
    "plt.show()"
   ]
  },
  {
   "cell_type": "markdown",
   "metadata": {
    "_uuid": "f62977ac5921c5eb436bfa1833564643b14175b8"
   },
   "source": [
    "### The Average 'MPG in City' is calculated using the Histogram"
   ]
  },
  {
   "cell_type": "code",
   "execution_count": null,
   "metadata": {
    "_uuid": "fa842fc50bbfe199d175c8c79aa5b28b34b20668"
   },
   "outputs": [],
   "source": [
    "import numpy as n\n",
    "import matplotlib.pyplot as plt\n",
    "\n",
    "# This is  the colormap I'd like to use.\n",
    "cm = plt.cm.get_cmap('YlGnBu')\n",
    "\n",
    "# Get the histogramp\n",
    "Y,X = n.histogram(automobile['city-mpg'], range=(15,48),bins=5)\n",
    "plt.xlabel(\"Number Of Miles in City\")\n",
    "plt.ylabel(\"Frequency\")\n",
    "plt.title(\"Average Miles Per Gallon in City\")\n",
    "plt.axvline(x=automobile['city-mpg'].mean(),linewidth=3,color='r')\n",
    "x_span = X.max()-X.min()\n",
    "C = [cm(((x-X.min())/x_span)) for x in X]\n",
    "\n",
    "plt.bar(X[:-1],Y,color=C,width=X[1]-X[0])\n",
    "plt.show()"
   ]
  },
  {
   "cell_type": "markdown",
   "metadata": {
    "_uuid": "709b0afecc02c002ee685f12308c51deee5b8041"
   },
   "source": [
    "### The Average 'MPG on Highway' is calculated using the Histogram"
   ]
  },
  {
   "cell_type": "code",
   "execution_count": null,
   "metadata": {
    "_uuid": "03411ebea488b628e491cc6e294c8bc756e59573"
   },
   "outputs": [],
   "source": [
    "import numpy as n\n",
    "import matplotlib.pyplot as plt\n",
    "\n",
    "# This is  the colormap I'd like to use.\n",
    "cm = plt.cm.get_cmap('RdYlGn')\n",
    "\n",
    "# Get the histogramp\n",
    "Y,X = n.histogram(automobile['highway-mpg'], range=(19,48),bins=5)\n",
    "plt.xlabel(\"Number Of Miles on Highway\")\n",
    "plt.ylabel(\"Frequency\")\n",
    "plt.title(\"Average Miles Per Gallon on Highway\")\n",
    "plt.axvline(x=automobile['highway-mpg'].mean(),linewidth=3,color='r')\n",
    "x_span = X.max()-X.min()\n",
    "C = [cm(((x-X.min())/x_span)) for x in X]\n",
    "\n",
    "plt.bar(X[:-1],Y,color=C,width=X[1]-X[0])\n",
    "plt.show()"
   ]
  },
  {
   "cell_type": "markdown",
   "metadata": {
    "_uuid": "28669fd08c89e17d37fcd021df026339fff60dbd"
   },
   "source": [
    "# Performance Criteria \n",
    "### *A few variables add up to the Performance of a car and also, how it compares with the actual meaning of how the performance variables are taken.Below are few which are taken into Performance Criteria Variables/factors.\n",
    "#### 1. Bore Vs Stroke Ratio\n",
    "#### 2. Bore/Stroke Ratio Vs Horsepower\n",
    "#### 3. Oversquared Vs Undersquared Engines\n",
    "#### 4. RPM Vs Torque"
   ]
  },
  {
   "cell_type": "markdown",
   "metadata": {
    "_uuid": "dde4d234f43fb2652f338d233644bb2ff4ceae12"
   },
   "source": [
    "## 1. In the below dataset we are creating a new column named 'bore_stroke_ratio' for the ratio between Bore and Stroke."
   ]
  },
  {
   "cell_type": "code",
   "execution_count": null,
   "metadata": {
    "_uuid": "05ad9d1eafdba2204e2967014b4d6b6042b0a5b8"
   },
   "outputs": [],
   "source": [
    "automobile['bore_stroke_ratio'] = automobile['bore']/automobile['stroke']\n",
    "automobile"
   ]
  },
  {
   "cell_type": "markdown",
   "metadata": {
    "_uuid": "80766b2b55148e17e43f6de397c5de1cb479e0bd"
   },
   "source": [
    "# Note - The Bore/Stroke gives us how much Power/Torque a car has.\n",
    "## - If the Ratio is more than 1 it is said to be having more 'RPM'(Powerful).\n",
    "\n",
    "## - If the Ratio is less than 1 it is said to be having more Torque."
   ]
  },
  {
   "cell_type": "markdown",
   "metadata": {
    "_uuid": "b5ff17bd436fe38546a92a3024887d288c069d96"
   },
   "source": [
    "# 2. But not Bore/Stroke alone can be taken to judge a car's performance. It should also match with BHP(Break Horse Power) and Vice-Versa. \n",
    "\n",
    "### Below is where we plot a graph between Bore/Stroke Ratio Vs Horsepower to see at what interval the cars in the dataset has an equally good Bore/Stroke and higher BHP."
   ]
  },
  {
   "cell_type": "code",
   "execution_count": null,
   "metadata": {
    "_uuid": "a4b544a5d7aff28a867e2846989382e6eae42473",
    "scrolled": true
   },
   "outputs": [],
   "source": [
    "import numpy as np\n",
    "import matplotlib.pyplot as plt\n",
    "\n",
    "plt.scatter(automobile['bore_stroke_ratio'],automobile['horsepower'],color='blue')\n",
    "plt.title('Permormance Criteria')\n",
    "plt.xlabel('Bore : Stroke Ratio')\n",
    "plt.ylabel('Horsepower')\n",
    "plt.show()"
   ]
  },
  {
   "cell_type": "markdown",
   "metadata": {
    "_uuid": "713752cd50ad78e75174270c9d94dad01107462a"
   },
   "source": [
    "\n"
   ]
  },
  {
   "cell_type": "code",
   "execution_count": null,
   "metadata": {
    "_uuid": "52a36569982e10794eb69de22ef8bed1ba32686b"
   },
   "outputs": [],
   "source": [
    "sns.regplot(x='bore_stroke_ratio', y='horsepower', data=automobile)"
   ]
  },
  {
   "cell_type": "markdown",
   "metadata": {
    "_uuid": "ccfb92ca2b0c52b9dbd0ec5224cea6a32be856f6",
    "collapsed": true
   },
   "source": [
    "# 3. The concept of 'Oversquared' and 'Undersquared' Engines are nothing but the engines which have greater than 1 Ratio is called 'Oversquared' and engines which have less than 1 Ratio is called 'Undersquared'.\n",
    "\n",
    "### Below is where we see the number of 'Oversquared' and 'Undersquared' engines we have from the provided dataset and the average of it."
   ]
  },
  {
   "cell_type": "markdown",
   "metadata": {
    "_uuid": "d5f155858b7353c9efc8ba7f9f85445a28df55e4"
   },
   "source": [
    "#### *  Below is where we plot and see how many Oversquared Engines are present and the average of it."
   ]
  },
  {
   "cell_type": "code",
   "execution_count": null,
   "metadata": {
    "_uuid": "ec536850921d6a9586588e41e92de9812a5e54c8"
   },
   "outputs": [],
   "source": [
    "oversquared = automobile[automobile['bore_stroke_ratio']>1]"
   ]
  },
  {
   "cell_type": "code",
   "execution_count": null,
   "metadata": {
    "_uuid": "e02a4752a3e154fb5931a56be094d49aaff9de54"
   },
   "outputs": [],
   "source": [
    "import numpy as n\n",
    "import matplotlib.pyplot as plt\n",
    "\n",
    "# This is  the colormap I'd like to use.\n",
    "cm = plt.cm.get_cmap('PuRd')\n",
    "\n",
    "# Get the histogramp\n",
    "Y,X = n.histogram(oversquared['bore_stroke_ratio'], range=(1,1.6),bins=5)\n",
    "plt.xlabel(\"Oversquared Engines Range\")\n",
    "plt.ylabel(\"Frequency\")\n",
    "plt.title(\"Average of Oversquared Engines/Engines which are more Powerful\")\n",
    "plt.axvline(x=oversquared['bore_stroke_ratio'].mean(),linewidth=3,color='r')\n",
    "x_span = X.max()-X.min()\n",
    "C = [cm(((x-X.min())/x_span)) for x in X]\n",
    "\n",
    "plt.bar(X[:-1],Y,color=C,width=X[1]-X[0])\n",
    "plt.show()"
   ]
  },
  {
   "cell_type": "markdown",
   "metadata": {
    "_uuid": "014536c298c3aec74f0c2c44b767dc7a352d863c"
   },
   "source": [
    "#### The number of  'Oversquared' Engines are 90."
   ]
  },
  {
   "cell_type": "code",
   "execution_count": null,
   "metadata": {
    "_uuid": "5b53dda2351b01d0308147727bf3ea473bc59561"
   },
   "outputs": [],
   "source": [
    "oversquared.shape"
   ]
  },
  {
   "cell_type": "markdown",
   "metadata": {
    "_uuid": "57fe2a52148db0825788e2206447ff194346374d"
   },
   "source": [
    "#### *  Below is where we plot and see how many Underaquared Engines are present and the average of it."
   ]
  },
  {
   "cell_type": "code",
   "execution_count": null,
   "metadata": {
    "_uuid": "baefdfa7568d1f826b9e80c0f61c1bd32da30b47"
   },
   "outputs": [],
   "source": [
    "undersquared = automobile[automobile['bore_stroke_ratio']<1]"
   ]
  },
  {
   "cell_type": "code",
   "execution_count": null,
   "metadata": {
    "_uuid": "30173202d9b57430f1c8691858cd5bde089c6426"
   },
   "outputs": [],
   "source": [
    "import numpy as n\n",
    "import matplotlib.pyplot as plt\n",
    "\n",
    "# This is  the colormap I'd like to use.\n",
    "cm = plt.cm.get_cmap('GnBu')\n",
    "\n",
    "# Get the histogramp\n",
    "Y,X = n.histogram(undersquared['bore_stroke_ratio'], range=(0.85,0.99),bins=5)\n",
    "plt.xlabel(\"Undersquared Engines Range\")\n",
    "plt.ylabel(\"Frequency\")\n",
    "plt.title(\"Average of Undersquared Engines/Engines which have more Torque\")\n",
    "plt.axvline(x=undersquared['bore_stroke_ratio'].mean(),linewidth=3,color='r')\n",
    "x_span = X.max()-X.min()\n",
    "C = [cm(((x-X.min())/x_span)) for x in X]\n",
    "\n",
    "plt.bar(X[:-1],Y,color=C,width=X[1]-X[0])\n",
    "plt.show()"
   ]
  },
  {
   "cell_type": "markdown",
   "metadata": {
    "_uuid": "756b102f156486844d20e0ad6c9d31cbd02c2317"
   },
   "source": [
    "#### The number of  'Undersquared' Engines are 105."
   ]
  },
  {
   "cell_type": "code",
   "execution_count": null,
   "metadata": {
    "_uuid": "0c05952b61cbe8305be41649d7203482154c25a8"
   },
   "outputs": [],
   "source": [
    "undersquared.shape"
   ]
  },
  {
   "cell_type": "code",
   "execution_count": null,
   "metadata": {
    "_uuid": "8d5096be9e2f6e257a1bf621cc5fcb2fe4bc4883"
   },
   "outputs": [],
   "source": [
    "automobile['oversquared']=automobile['bore_stroke_ratio']>1"
   ]
  },
  {
   "cell_type": "code",
   "execution_count": null,
   "metadata": {
    "_uuid": "5ed176cb26148c2e2d9d29c8c265b0b86cd9c6c5"
   },
   "outputs": [],
   "source": [
    "automobile['undersquared']=automobile['bore_stroke_ratio']<1"
   ]
  },
  {
   "cell_type": "code",
   "execution_count": null,
   "metadata": {
    "_uuid": "0c44162f45a5b5e549ff7d348bd9388ca648e70f"
   },
   "outputs": [],
   "source": []
  },
  {
   "cell_type": "code",
   "execution_count": null,
   "metadata": {
    "_uuid": "575733801610ce3e8b46de4a155b8a35ed93b976"
   },
   "outputs": [],
   "source": []
  }
 ],
 "metadata": {
  "kernelspec": {
   "display_name": "Python 3",
   "language": "python",
   "name": "python3"
  },
  "language_info": {
   "codemirror_mode": {
    "name": "ipython",
    "version": 3
   },
   "file_extension": ".py",
   "mimetype": "text/x-python",
   "name": "python",
   "nbconvert_exporter": "python",
   "pygments_lexer": "ipython3",
   "version": "3.6.5"
  }
 },
 "nbformat": 4,
 "nbformat_minor": 1
}
